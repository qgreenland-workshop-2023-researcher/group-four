{
 "cells": [
  {
   "cell_type": "markdown",
   "id": "5900b418-ca21-489a-9ab8-47c3911a3189",
   "metadata": {
    "tags": []
   },
   "source": [
    "Clipping DEM from group one (clipped_Greenland_EPSG3413.tif) with the Dataset from group four (Greenland_CDOM_2017_2018_reversed.csv)"
   ]
  },
  {
   "cell_type": "code",
   "execution_count": 5,
   "id": "e5512d36-9642-4c62-92cb-a0657e88543d",
   "metadata": {
    "tags": []
   },
   "outputs": [
    {
     "name": "stdout",
     "output_type": "stream",
     "text": [
      "Input file size is 9342, 5471\n",
      "0...10...20...30...40...50...60...70...80...90...100 - done.\n"
     ]
    }
   ],
   "source": [
    "%%bash\n",
    "gdal_translate -projwin -29500 -3169000.6628 -14800.1473 -3200000.2954 ~/shared-public/QGreenland-Researcher-Workshop/group-four/Clipped_Greenland_EPSG3413.tif ~/shared-public/QGreenland-Researcher-Workshop/group-four/Clipped_Greenland_EPSG3413_output.tif"
   ]
  },
  {
   "cell_type": "code",
   "execution_count": null,
   "id": "280a10ad-01e7-46e8-945d-e0405899e659",
   "metadata": {},
   "outputs": [],
   "source": []
  }
 ],
 "metadata": {
  "kernelspec": {
   "display_name": "Python 3 (ipykernel)",
   "language": "python",
   "name": "python3"
  },
  "language_info": {
   "codemirror_mode": {
    "name": "ipython",
    "version": 3
   },
   "file_extension": ".py",
   "mimetype": "text/x-python",
   "name": "python",
   "nbconvert_exporter": "python",
   "pygments_lexer": "ipython3",
   "version": "3.10.11"
  }
 },
 "nbformat": 4,
 "nbformat_minor": 5
}
