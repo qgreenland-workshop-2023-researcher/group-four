{
 "cells": [
  {
   "cell_type": "code",
   "execution_count": 1,
   "id": "9143adb1-f1c9-47b9-913a-faf8edfd2edf",
   "metadata": {
    "tags": []
   },
   "outputs": [
    {
     "name": "stdout",
     "output_type": "stream",
     "text": [
      "18M\tqiceradar_arctic_index.gpkg\n",
      "18M\ttotal\n"
     ]
    }
   ],
   "source": [
    "%%bash\n",
    "du -hcs qiceradar_arctic_index.gpkg"
   ]
  },
  {
   "cell_type": "markdown",
   "id": "d586152a-6939-4f4f-9c98-d3fe38b9834d",
   "metadata": {
    "user_expressions": []
   },
   "source": [
    "Start by trying command-line tools to look at the dataset:"
   ]
  },
  {
   "cell_type": "code",
   "execution_count": 7,
   "id": "a8a41e49-cc55-4ed0-9286-51329e9cb781",
   "metadata": {
    "tags": []
   },
   "outputs": [
    {
     "name": "stdout",
     "output_type": "stream",
     "text": [
      "INFO: Open of `qiceradar_arctic_index.gpkg'\n",
      "      using driver `GPKG' successful.\n",
      "1: 1993_Greenland_P3 (Line String)\n",
      "2: 1995_Greenland_P3 (Line String)\n",
      "3: 1996_Greenland_P3 (Line String)\n",
      "4: 1997_Greenland_P3 (Line String)\n",
      "5: 1998_Greenland_P3 (Line String)\n",
      "6: 1999_Greenland_P3 (Line String)\n",
      "7: 2001_Greenland_P3 (Line String)\n",
      "8: 2002_Greenland_P3 (Line String)\n",
      "9: 2003_Greenland_P3 (Line String)\n",
      "10: 2005_Greenland_TO (Line String)\n",
      "11: 2006_Greenland_TO (Line String)\n",
      "12: 2007_Greenland_P3 (Line String)\n",
      "13: 2008_Greenland_Ground (Line String)\n",
      "14: 2008_Greenland_TO (Line String)\n",
      "15: 2009_Greenland_TO (Line String)\n",
      "16: 2010_Greenland_DC8 (Line String)\n",
      "17: 2010_Greenland_P3 (Line String)\n",
      "18: 2011_Greenland_P3 (Line String)\n",
      "19: 2011_Greenland_TO (Line String)\n",
      "20: 2012_Greenland_P3 (Line String)\n",
      "21: 2013_Greenland_P3 (Line String)\n",
      "22: 2014_Greenland_P3 (Line String)\n",
      "23: 2015_Greenland_C130 (Line String)\n",
      "24: 2016_Greenland_G1XB (Line String)\n",
      "25: 2016_Greenland_P3 (Line String)\n",
      "26: 2016_Greenland_Polar6 (Line String)\n",
      "27: 2016_Greenland_TOdtu (Line String)\n",
      "28: 2017_Greenland_P3 (Line String)\n",
      "29: 2018_Greenland_P3 (Line String)\n",
      "30: 2019_Greenland_P3 (Line String)\n",
      "31: 2018_DIC (Line String)\n"
     ]
    }
   ],
   "source": [
    "%%bash \n",
    "ogrinfo qiceradar_arctic_index.gpkg"
   ]
  },
  {
   "cell_type": "markdown",
   "id": "97918622-e2cb-481f-80f1-e7237dc343b7",
   "metadata": {
    "user_expressions": []
   },
   "source": [
    "OK ... that gave a table of contents, but I want to know more =)\n",
    "* How many elements go into each {yyyy}_Greenland_P3 line string?\n",
    "* What's the total length of all flightlines?"
   ]
  },
  {
   "cell_type": "code",
   "execution_count": 11,
   "id": "147595d9-d576-48cb-a300-05140e473058",
   "metadata": {
    "tags": []
   },
   "outputs": [
    {
     "data": {
      "text/html": [
       "<div>\n",
       "<style scoped>\n",
       "    .dataframe tbody tr th:only-of-type {\n",
       "        vertical-align: middle;\n",
       "    }\n",
       "\n",
       "    .dataframe tbody tr th {\n",
       "        vertical-align: top;\n",
       "    }\n",
       "\n",
       "    .dataframe thead th {\n",
       "        text-align: right;\n",
       "    }\n",
       "</style>\n",
       "<table border=\"1\" class=\"dataframe\">\n",
       "  <thead>\n",
       "    <tr style=\"text-align: right;\">\n",
       "      <th></th>\n",
       "      <th>institution</th>\n",
       "      <th>region</th>\n",
       "      <th>campaign</th>\n",
       "      <th>segment</th>\n",
       "      <th>granule</th>\n",
       "      <th>availability</th>\n",
       "      <th>uri</th>\n",
       "      <th>name</th>\n",
       "      <th>geometry</th>\n",
       "    </tr>\n",
       "  </thead>\n",
       "  <tbody>\n",
       "    <tr>\n",
       "      <th>0</th>\n",
       "      <td>CRESIS</td>\n",
       "      <td>arctic</td>\n",
       "      <td>1993_Greenland_P3</td>\n",
       "      <td>19930623_01</td>\n",
       "      <td>Data_19930623_01_001</td>\n",
       "      <td>s</td>\n",
       "      <td>NaN</td>\n",
       "      <td>CRESIS_1993_Greenland_P3_Data_19930623_01_001</td>\n",
       "      <td>LINESTRING (-171256.100 -2465362.576, -166395....</td>\n",
       "    </tr>\n",
       "    <tr>\n",
       "      <th>1</th>\n",
       "      <td>CRESIS</td>\n",
       "      <td>arctic</td>\n",
       "      <td>1993_Greenland_P3</td>\n",
       "      <td>19930623_01</td>\n",
       "      <td>Data_19930623_01_002</td>\n",
       "      <td>s</td>\n",
       "      <td>NaN</td>\n",
       "      <td>CRESIS_1993_Greenland_P3_Data_19930623_01_002</td>\n",
       "      <td>LINESTRING (-68987.776 -2385310.566, -63658.65...</td>\n",
       "    </tr>\n",
       "    <tr>\n",
       "      <th>2</th>\n",
       "      <td>CRESIS</td>\n",
       "      <td>arctic</td>\n",
       "      <td>1993_Greenland_P3</td>\n",
       "      <td>19930623_01</td>\n",
       "      <td>Data_19930623_01_003</td>\n",
       "      <td>s</td>\n",
       "      <td>NaN</td>\n",
       "      <td>CRESIS_1993_Greenland_P3_Data_19930623_01_003</td>\n",
       "      <td>LINESTRING (50726.369 -2314756.736, 51196.739 ...</td>\n",
       "    </tr>\n",
       "    <tr>\n",
       "      <th>3</th>\n",
       "      <td>CRESIS</td>\n",
       "      <td>arctic</td>\n",
       "      <td>1993_Greenland_P3</td>\n",
       "      <td>19930623_01</td>\n",
       "      <td>Data_19930623_01_004</td>\n",
       "      <td>s</td>\n",
       "      <td>NaN</td>\n",
       "      <td>CRESIS_1993_Greenland_P3_Data_19930623_01_004</td>\n",
       "      <td>LINESTRING (68815.712 -2307761.615, 69420.398 ...</td>\n",
       "    </tr>\n",
       "    <tr>\n",
       "      <th>4</th>\n",
       "      <td>CRESIS</td>\n",
       "      <td>arctic</td>\n",
       "      <td>1993_Greenland_P3</td>\n",
       "      <td>19930623_01</td>\n",
       "      <td>Data_19930623_01_005</td>\n",
       "      <td>s</td>\n",
       "      <td>NaN</td>\n",
       "      <td>CRESIS_1993_Greenland_P3_Data_19930623_01_005</td>\n",
       "      <td>LINESTRING (87970.745 -2300323.116, 89249.635 ...</td>\n",
       "    </tr>\n",
       "    <tr>\n",
       "      <th>...</th>\n",
       "      <td>...</td>\n",
       "      <td>...</td>\n",
       "      <td>...</td>\n",
       "      <td>...</td>\n",
       "      <td>...</td>\n",
       "      <td>...</td>\n",
       "      <td>...</td>\n",
       "      <td>...</td>\n",
       "      <td>...</td>\n",
       "    </tr>\n",
       "    <tr>\n",
       "      <th>222</th>\n",
       "      <td>CRESIS</td>\n",
       "      <td>arctic</td>\n",
       "      <td>1993_Greenland_P3</td>\n",
       "      <td>19930709_01</td>\n",
       "      <td>Data_19930709_01_030</td>\n",
       "      <td>s</td>\n",
       "      <td>NaN</td>\n",
       "      <td>CRESIS_1993_Greenland_P3_Data_19930709_01_030</td>\n",
       "      <td>LINESTRING (-63698.183 -2478689.898, -63643.02...</td>\n",
       "    </tr>\n",
       "    <tr>\n",
       "      <th>223</th>\n",
       "      <td>CRESIS</td>\n",
       "      <td>arctic</td>\n",
       "      <td>1993_Greenland_P3</td>\n",
       "      <td>19930709_01</td>\n",
       "      <td>Data_19930709_01_031</td>\n",
       "      <td>s</td>\n",
       "      <td>NaN</td>\n",
       "      <td>CRESIS_1993_Greenland_P3_Data_19930709_01_031</td>\n",
       "      <td>LINESTRING (-61651.026 -2532054.133, -61569.13...</td>\n",
       "    </tr>\n",
       "    <tr>\n",
       "      <th>224</th>\n",
       "      <td>CRESIS</td>\n",
       "      <td>arctic</td>\n",
       "      <td>1993_Greenland_P3</td>\n",
       "      <td>19930709_01</td>\n",
       "      <td>Data_19930709_01_032</td>\n",
       "      <td>s</td>\n",
       "      <td>NaN</td>\n",
       "      <td>CRESIS_1993_Greenland_P3_Data_19930709_01_032</td>\n",
       "      <td>LINESTRING (-61110.621 -2544821.872, -60876.78...</td>\n",
       "    </tr>\n",
       "    <tr>\n",
       "      <th>225</th>\n",
       "      <td>CRESIS</td>\n",
       "      <td>arctic</td>\n",
       "      <td>1993_Greenland_P3</td>\n",
       "      <td>19930709_01</td>\n",
       "      <td>Data_19930709_01_033</td>\n",
       "      <td>s</td>\n",
       "      <td>NaN</td>\n",
       "      <td>CRESIS_1993_Greenland_P3_Data_19930709_01_033</td>\n",
       "      <td>LINESTRING (-57050.273 -2589403.358, -57730.13...</td>\n",
       "    </tr>\n",
       "    <tr>\n",
       "      <th>226</th>\n",
       "      <td>CRESIS</td>\n",
       "      <td>arctic</td>\n",
       "      <td>1993_Greenland_P3</td>\n",
       "      <td>19930709_01</td>\n",
       "      <td>Data_19930709_01_034</td>\n",
       "      <td>s</td>\n",
       "      <td>NaN</td>\n",
       "      <td>CRESIS_1993_Greenland_P3_Data_19930709_01_034</td>\n",
       "      <td>LINESTRING (-157815.552 -2524591.897, -160213....</td>\n",
       "    </tr>\n",
       "  </tbody>\n",
       "</table>\n",
       "<p>227 rows × 9 columns</p>\n",
       "</div>"
      ],
      "text/plain": [
       "    institution  region           campaign      segment               granule  \\\n",
       "0        CRESIS  arctic  1993_Greenland_P3  19930623_01  Data_19930623_01_001   \n",
       "1        CRESIS  arctic  1993_Greenland_P3  19930623_01  Data_19930623_01_002   \n",
       "2        CRESIS  arctic  1993_Greenland_P3  19930623_01  Data_19930623_01_003   \n",
       "3        CRESIS  arctic  1993_Greenland_P3  19930623_01  Data_19930623_01_004   \n",
       "4        CRESIS  arctic  1993_Greenland_P3  19930623_01  Data_19930623_01_005   \n",
       "..          ...     ...                ...          ...                   ...   \n",
       "222      CRESIS  arctic  1993_Greenland_P3  19930709_01  Data_19930709_01_030   \n",
       "223      CRESIS  arctic  1993_Greenland_P3  19930709_01  Data_19930709_01_031   \n",
       "224      CRESIS  arctic  1993_Greenland_P3  19930709_01  Data_19930709_01_032   \n",
       "225      CRESIS  arctic  1993_Greenland_P3  19930709_01  Data_19930709_01_033   \n",
       "226      CRESIS  arctic  1993_Greenland_P3  19930709_01  Data_19930709_01_034   \n",
       "\n",
       "    availability  uri                                           name  \\\n",
       "0              s  NaN  CRESIS_1993_Greenland_P3_Data_19930623_01_001   \n",
       "1              s  NaN  CRESIS_1993_Greenland_P3_Data_19930623_01_002   \n",
       "2              s  NaN  CRESIS_1993_Greenland_P3_Data_19930623_01_003   \n",
       "3              s  NaN  CRESIS_1993_Greenland_P3_Data_19930623_01_004   \n",
       "4              s  NaN  CRESIS_1993_Greenland_P3_Data_19930623_01_005   \n",
       "..           ...  ...                                            ...   \n",
       "222            s  NaN  CRESIS_1993_Greenland_P3_Data_19930709_01_030   \n",
       "223            s  NaN  CRESIS_1993_Greenland_P3_Data_19930709_01_031   \n",
       "224            s  NaN  CRESIS_1993_Greenland_P3_Data_19930709_01_032   \n",
       "225            s  NaN  CRESIS_1993_Greenland_P3_Data_19930709_01_033   \n",
       "226            s  NaN  CRESIS_1993_Greenland_P3_Data_19930709_01_034   \n",
       "\n",
       "                                              geometry  \n",
       "0    LINESTRING (-171256.100 -2465362.576, -166395....  \n",
       "1    LINESTRING (-68987.776 -2385310.566, -63658.65...  \n",
       "2    LINESTRING (50726.369 -2314756.736, 51196.739 ...  \n",
       "3    LINESTRING (68815.712 -2307761.615, 69420.398 ...  \n",
       "4    LINESTRING (87970.745 -2300323.116, 89249.635 ...  \n",
       "..                                                 ...  \n",
       "222  LINESTRING (-63698.183 -2478689.898, -63643.02...  \n",
       "223  LINESTRING (-61651.026 -2532054.133, -61569.13...  \n",
       "224  LINESTRING (-61110.621 -2544821.872, -60876.78...  \n",
       "225  LINESTRING (-57050.273 -2589403.358, -57730.13...  \n",
       "226  LINESTRING (-157815.552 -2524591.897, -160213....  \n",
       "\n",
       "[227 rows x 9 columns]"
      ]
     },
     "execution_count": 11,
     "metadata": {},
     "output_type": "execute_result"
    }
   ],
   "source": [
    "import geopandas as gpd\n",
    "data = gpd.read_file(\"qiceradar_arctic_index.gpkg\")\n",
    "data"
   ]
  },
  {
   "cell_type": "markdown",
   "id": "ee2c4fed-7cdb-415b-87b4-9e80ae0682af",
   "metadata": {
    "tags": [],
    "user_expressions": []
   },
   "source": [
    "It looks like this only grabbed data from the first campaign, not everything in the package?"
   ]
  },
  {
   "cell_type": "markdown",
   "id": "5ea745e1-8c2c-4962-b659-33e3bd9839a4",
   "metadata": {
    "user_expressions": []
   },
   "source": [
    "Let's try using sqlite to directly inspect the database"
   ]
  },
  {
   "cell_type": "code",
   "execution_count": 12,
   "id": "a5df8f8f-7c2c-4590-a7e1-b3854c475488",
   "metadata": {
    "tags": []
   },
   "outputs": [],
   "source": [
    "import sqlite3"
   ]
  },
  {
   "cell_type": "code",
   "execution_count": 17,
   "id": "79894732-5bd6-4aef-83f6-57f2cd47dde8",
   "metadata": {
    "tags": []
   },
   "outputs": [],
   "source": [
    "campaign_names = set()\n",
    "institutions = {}\n",
    "campaigns = {}\n",
    "\n",
    "with sqlite3.connect(\"qiceradar_arctic_index.gpkg\") as conn:\n",
    "    conn.row_factory = sqlite3.Row\n",
    "    cursor = conn.execute(\"SELECT * FROM {}\".format(\"gpkg_geometry_columns\"))\n",
    "    for row in cursor:\n",
    "        campaign_names.add(row[\"table_name\"])  # I think this is also the primary key\n",
    "        \n",
    "\n",
    "    for campaign in campaign_names:\n",
    "        campaigns[campaign] = 0\n",
    "        cursor = conn.execute(\"SELECT * FROM '{}'\".format(campaign))\n",
    "        # NOTE: With the current database design, these tables only have one row.\n",
    "        for row in cursor:\n",
    "            institution = row[\"institution\"]\n",
    "            if institution not in institutions:\n",
    "                institutions[institution] = set()\n",
    "            institutions[institution].add(campaign)\n",
    "            campaigns[campaign] += 1"
   ]
  },
  {
   "cell_type": "code",
   "execution_count": 21,
   "id": "37196cd5-7ab9-45ae-aba1-38b67f05b110",
   "metadata": {
    "tags": []
   },
   "outputs": [
    {
     "name": "stdout",
     "output_type": "stream",
     "text": [
      "CRESIS released data from 30 campaigns\n",
      "UTIG released data from 1 campaigns\n"
     ]
    }
   ],
   "source": [
    "for ii, cc in institutions.items():\n",
    "    print(\"{} released data from {} campaigns\".format(ii, len(cc)))"
   ]
  },
  {
   "cell_type": "code",
   "execution_count": 27,
   "id": "b126ce4f-bafd-4208-b1af-1a670c95d830",
   "metadata": {
    "tags": []
   },
   "outputs": [
    {
     "name": "stdout",
     "output_type": "stream",
     "text": [
      "1993_Greenland_P3 had 227 granules\n",
      "1995_Greenland_P3 had 172 granules\n",
      "1996_Greenland_P3 had 52 granules\n",
      "1997_Greenland_P3 had 217 granules\n",
      "1998_Greenland_P3 had 216 granules\n",
      "1999_Greenland_P3 had 272 granules\n",
      "2001_Greenland_P3 had 106 granules\n",
      "2002_Greenland_P3 had 481 granules\n",
      "2003_Greenland_P3 had 155 granules\n",
      "2005_Greenland_TO had 114 granules\n",
      "2006_Greenland_TO had 445 granules\n",
      "2007_Greenland_P3 had 136 granules\n",
      "2008_Greenland_Ground had 5 granules\n",
      "2008_Greenland_TO had 706 granules\n",
      "2009_Greenland_TO had 425 granules\n",
      "2010_Greenland_DC8 had 340 granules\n",
      "2010_Greenland_P3 had 585 granules\n",
      "2011_Greenland_P3 had 1669 granules\n",
      "2011_Greenland_TO had 284 granules\n",
      "2012_Greenland_P3 had 2010 granules\n",
      "2013_Greenland_P3 had 878 granules\n",
      "2014_Greenland_P3 had 1864 granules\n",
      "2015_Greenland_C130 had 1558 granules\n",
      "2016_Greenland_G1XB had 29 granules\n",
      "2016_Greenland_P3 had 552 granules\n",
      "2016_Greenland_Polar6 had 62 granules\n",
      "2016_Greenland_TOdtu had 90 granules\n",
      "2017_Greenland_P3 had 1699 granules\n",
      "2018_DIC had 87 granules\n",
      "2018_Greenland_P3 had 843 granules\n",
      "2019_Greenland_P3 had 1236 granules\n"
     ]
    }
   ],
   "source": [
    "ccs = list(campaigns.keys())\n",
    "ccs.sort()\n",
    "for cc in ccs:\n",
    "    print(\"{} had {} granules\".format(cc, campaigns[cc]))"
   ]
  },
  {
   "cell_type": "markdown",
   "id": "8f0fafd4-d7a4-4e18-aabb-8bc2244d0cd1",
   "metadata": {
    "tags": [],
    "user_expressions": []
   },
   "source": [
    "Can we use the processing toolbox to get the length of all the linestrings?"
   ]
  },
  {
   "cell_type": "code",
   "execution_count": null,
   "id": "9cb69c28-8ec0-4712-9709-177fc830cf34",
   "metadata": {},
   "outputs": [],
   "source": []
  }
 ],
 "metadata": {
  "kernelspec": {
   "display_name": "Python 3 (ipykernel)",
   "language": "python",
   "name": "python3"
  },
  "language_info": {
   "codemirror_mode": {
    "name": "ipython",
    "version": 3
   },
   "file_extension": ".py",
   "mimetype": "text/x-python",
   "name": "python",
   "nbconvert_exporter": "python",
   "pygments_lexer": "ipython3",
   "version": "3.10.11"
  }
 },
 "nbformat": 4,
 "nbformat_minor": 5
}
